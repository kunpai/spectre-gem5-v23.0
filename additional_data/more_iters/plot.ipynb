{
 "cells": [
  {
   "cell_type": "code",
   "execution_count": 21,
   "metadata": {},
   "outputs": [],
   "source": [
    "import os"
   ]
  },
  {
   "cell_type": "code",
   "execution_count": 22,
   "metadata": {},
   "outputs": [],
   "source": [
    "def extract_more_iters_data(folder):\n",
    "    result_dict = {}\n",
    "    for subfolder in os.listdir(folder):\n",
    "\n",
    "        # Check if the subfolder is a folder\n",
    "        if not os.path.isdir(os.path.join(folder, subfolder)):\n",
    "            continue\n",
    "        # go inside the subfolder\n",
    "\n",
    "        for file in os.listdir(os.path.join(folder, subfolder)):\n",
    "            if file.endswith(\"stats.txt\"):\n",
    "                with open(os.path.join(folder, subfolder, file), 'r') as f:\n",
    "                    overallMisses = 0\n",
    "                    # read all lines into a list\n",
    "                    lines = f.readlines()\n",
    "                    for line in lines:\n",
    "                        if \"simSeconds\" in line:\n",
    "                            # extract the simSeconds value from the line\n",
    "                            simSeconds = float(line.split()[1])\n",
    "                        if \"system.cpu.numCycles\" in line:\n",
    "                            # extract the numCycles value from the line\n",
    "                            numCycles = int(line.split()[1])\n",
    "                        if \"system.cpu.branchPred.condPredicted\" in line:\n",
    "                            # extract the conditional predicted branches value from the line\n",
    "                            condPredicted = int(line.split()[1])\n",
    "                        if \"system.cpu.branchPred.condIncorrect\" in line:\n",
    "                            # extract the conditional incorrect branches value from the line\n",
    "                            condIncorrect = int(line.split()[1])\n",
    "                        if \"system.cpu.commit.branchMispredicts\" in line:\n",
    "                            # extract the branch mispredicts value from the line\n",
    "                            branchMispredicts = int(line.split()[1])\n",
    "                        if \"overallMisses::total\" in line:\n",
    "                            # extract the overall misses value from the line\n",
    "                            overallMisses += int(line.split()[1])\n",
    "                result_dict[os.path.basename(subfolder)] = {\"Seconds\": simSeconds, \"Cycles\": numCycles, \"Conditional Predicted\": condPredicted,\n",
    "                                                            \"Conditional Incorrect\": condIncorrect, \"Branch Mispredicts\": branchMispredicts,\n",
    "                                                            \"Overall Cache Misses\": overallMisses}  # Create an empty dictionary for the folder\n",
    "\n",
    "    return result_dict"
   ]
  },
  {
   "cell_type": "code",
   "execution_count": 23,
   "metadata": {},
   "outputs": [
    {
     "name": "stdout",
     "output_type": "stream",
     "text": [
      "Branch Predictor\tSeconds\t\tCycles\t\tConditional Predicted\tConditional Incorrect\tBranch Mispredicts\tOverall Cache Misses\n",
      "multiperspective perceptron tage 64kb\t\t0.476841\t\t476841170\t\t41269028\t\t\t\t525521\t\t\t\t181114\t\t\t\t3244538\n",
      "multiperspective perceptron 64KB\t\t4.252165\t\t4252164692\t\t376938450\t\t\t\t6541260\t\t\t\t6540784\t\t\t\t28596141\n",
      "tage_sc_l_8kb\t\t0.310865\t\t310864622\t\t26840632\t\t\t\t121109\t\t\t\t120644\t\t\t\t2119336\n",
      "multiperspective perceptron tage 8kb\t\t0.238586\t\t238586270\t\t20791374\t\t\t\t266312\t\t\t\t93980\t\t\t\t1621534\n",
      "bimodebp\t\t0.007883\t\t7883351\t\t794036\t\t\t\t6507\t\t\t\t6026\t\t\t\t55346\n",
      "tage_sc_l_64kb\t\t0.198972\t\t198972273\t\t16981374\t\t\t\t77885\t\t\t\t77425\t\t\t\t1354911\n",
      "TAGE\t\t0.007778\t\t7777790\t\t754099\t\t\t\t2697\t\t\t\t2251\t\t\t\t55232\n",
      "multiperspective perceptron 8KB\t\t0.100368\t\t100368038\t\t8816290\t\t\t\t47285\t\t\t\t46809\t\t\t\t683665\n",
      "ltage\t\t0.172418\t\t172418156\t\t14318138\t\t\t\t13946\t\t\t\t13506\t\t\t\t1188455\n",
      "localBP\t\t0.007916\t\t7915691\t\t798660\t\t\t\t7717\t\t\t\t7351\t\t\t\t55251\n",
      "tournamentBP\t\t5.714297\t\t5714296913\t\t502983936\t\t\t\t2381750\t\t\t\t2381296\t\t\t\t39021789\n"
     ]
    }
   ],
   "source": [
    "more_iters_data = extract_more_iters_data(\".\")\n",
    "\n",
    "# print data in a table\n",
    "print(\"Branch Predictor\\tSeconds\\t\\tCycles\\t\\tConditional Predicted\\tConditional Incorrect\\tBranch Mispredicts\\tOverall Cache Misses\")\n",
    "for key, value in more_iters_data.items():\n",
    "    print(\"{}\\t\\t{}\\t\\t{}\\t\\t{}\\t\\t\\t\\t{}\\t\\t\\t\\t{}\\t\\t\\t\\t{}\".format(\" \".join(key.split(\"-\")[3:]), value[\"Seconds\"], value[\"Cycles\"], value[\"Conditional Predicted\"],\n",
    "                                                                         value[\"Conditional Incorrect\"], value[\"Branch Mispredicts\"],\n",
    "                                                                         value[\"Overall Cache Misses\"]))\n"
   ]
  },
  {
   "cell_type": "code",
   "execution_count": 24,
   "metadata": {},
   "outputs": [
    {
     "name": "stdout",
     "output_type": "stream",
     "text": [
      "                                                     Seconds      Cycles  \\\n",
      "o3cpu-spectre-multiperspective-perceptron-tage-...  0.476841   476841170   \n",
      "o3cpu-spectre-multiperspective-perceptron-64KB      4.252165  4252164692   \n",
      "o3cpu-spectre-tage-sc-l-8kb                         0.310865   310864622   \n",
      "o3cpu-spectre-multiperspective-perceptron-tage-8kb  0.238586   238586270   \n",
      "o3cpu-spectre-bimodebp                              0.007883     7883351   \n",
      "o3cpu-spectre-tage-sc-l-64kb                        0.198972   198972273   \n",
      "o3cpu-spectre-TAGE                                  0.007778     7777790   \n",
      "o3cpu-spectre-multiperspective-perceptron-8KB       0.100368   100368038   \n",
      "o3cpu-spectre-ltage                                 0.172418   172418156   \n",
      "o3cpu-spectre-localBP                               0.007916     7915691   \n",
      "o3cpu-spectre-tournamentBP                          5.714297  5714296913   \n",
      "\n",
      "                                                    Conditional Predicted  \\\n",
      "o3cpu-spectre-multiperspective-perceptron-tage-...               41269028   \n",
      "o3cpu-spectre-multiperspective-perceptron-64KB                  376938450   \n",
      "o3cpu-spectre-tage-sc-l-8kb                                      26840632   \n",
      "o3cpu-spectre-multiperspective-perceptron-tage-8kb               20791374   \n",
      "o3cpu-spectre-bimodebp                                             794036   \n",
      "o3cpu-spectre-tage-sc-l-64kb                                     16981374   \n",
      "o3cpu-spectre-TAGE                                                 754099   \n",
      "o3cpu-spectre-multiperspective-perceptron-8KB                     8816290   \n",
      "o3cpu-spectre-ltage                                              14318138   \n",
      "o3cpu-spectre-localBP                                              798660   \n",
      "o3cpu-spectre-tournamentBP                                      502983936   \n",
      "\n",
      "                                                    Conditional Incorrect  \\\n",
      "o3cpu-spectre-multiperspective-perceptron-tage-...                 525521   \n",
      "o3cpu-spectre-multiperspective-perceptron-64KB                    6541260   \n",
      "o3cpu-spectre-tage-sc-l-8kb                                        121109   \n",
      "o3cpu-spectre-multiperspective-perceptron-tage-8kb                 266312   \n",
      "o3cpu-spectre-bimodebp                                               6507   \n",
      "o3cpu-spectre-tage-sc-l-64kb                                        77885   \n",
      "o3cpu-spectre-TAGE                                                   2697   \n",
      "o3cpu-spectre-multiperspective-perceptron-8KB                       47285   \n",
      "o3cpu-spectre-ltage                                                 13946   \n",
      "o3cpu-spectre-localBP                                                7717   \n",
      "o3cpu-spectre-tournamentBP                                        2381750   \n",
      "\n",
      "                                                    Branch Mispredicts  \\\n",
      "o3cpu-spectre-multiperspective-perceptron-tage-...              181114   \n",
      "o3cpu-spectre-multiperspective-perceptron-64KB                 6540784   \n",
      "o3cpu-spectre-tage-sc-l-8kb                                     120644   \n",
      "o3cpu-spectre-multiperspective-perceptron-tage-8kb               93980   \n",
      "o3cpu-spectre-bimodebp                                            6026   \n",
      "o3cpu-spectre-tage-sc-l-64kb                                     77425   \n",
      "o3cpu-spectre-TAGE                                                2251   \n",
      "o3cpu-spectre-multiperspective-perceptron-8KB                    46809   \n",
      "o3cpu-spectre-ltage                                              13506   \n",
      "o3cpu-spectre-localBP                                             7351   \n",
      "o3cpu-spectre-tournamentBP                                     2381296   \n",
      "\n",
      "                                                    Overall Cache Misses  \n",
      "o3cpu-spectre-multiperspective-perceptron-tage-...               3244538  \n",
      "o3cpu-spectre-multiperspective-perceptron-64KB                  28596141  \n",
      "o3cpu-spectre-tage-sc-l-8kb                                      2119336  \n",
      "o3cpu-spectre-multiperspective-perceptron-tage-8kb               1621534  \n",
      "o3cpu-spectre-bimodebp                                             55346  \n",
      "o3cpu-spectre-tage-sc-l-64kb                                     1354911  \n",
      "o3cpu-spectre-TAGE                                                 55232  \n",
      "o3cpu-spectre-multiperspective-perceptron-8KB                     683665  \n",
      "o3cpu-spectre-ltage                                              1188455  \n",
      "o3cpu-spectre-localBP                                              55251  \n",
      "o3cpu-spectre-tournamentBP                                      39021789  \n"
     ]
    }
   ],
   "source": [
    "# convert data to a dataframe\n",
    "import pandas as pd\n",
    "more_iters_df = pd.DataFrame.from_dict(more_iters_data, orient='index')\n",
    "more_iters_df.index = more_iters_df.index.str.replace(\"_\", \"-\")\n",
    "more_iters_df.index = more_iters_df.index.str.replace(\"2000tries-\", \"\")\n",
    "\n",
    "print(more_iters_df)"
   ]
  },
  {
   "cell_type": "code",
   "execution_count": 25,
   "metadata": {},
   "outputs": [],
   "source": [
    "import pickle\n",
    "\n",
    "# Save the variable to a file\n",
    "with open('more_iters_data.pkl', 'wb') as f:\n",
    "    pickle.dump(more_iters_df, f)"
   ]
  }
 ],
 "metadata": {
  "kernelspec": {
   "display_name": "Python 3",
   "language": "python",
   "name": "python3"
  },
  "language_info": {
   "codemirror_mode": {
    "name": "ipython",
    "version": 3
   },
   "file_extension": ".py",
   "mimetype": "text/x-python",
   "name": "python",
   "nbconvert_exporter": "python",
   "pygments_lexer": "ipython3",
   "version": "3.10.0"
  }
 },
 "nbformat": 4,
 "nbformat_minor": 2
}
