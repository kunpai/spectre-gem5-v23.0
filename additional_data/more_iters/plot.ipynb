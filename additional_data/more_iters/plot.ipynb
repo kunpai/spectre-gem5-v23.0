{
 "cells": [
  {
   "cell_type": "code",
   "execution_count": null,
   "metadata": {},
   "outputs": [],
   "source": [
    "import os"
   ]
  },
  {
   "cell_type": "code",
   "execution_count": null,
   "metadata": {},
   "outputs": [],
   "source": [
    "def extract_data(folder):\n",
    "    result_dict = {}\n",
    "    for file in os.listdir(folder):\n",
    "        if file.endswith(\"stats.txt\"):\n",
    "            with open(os.path.join(folder, file), 'r') as f:\n",
    "                overallMisses = 0\n",
    "                # read all lines into a list\n",
    "                lines = f.readlines()\n",
    "                for line in lines:\n",
    "                    if \"simSeconds\" in line:\n",
    "                        # extract the simSeconds value from the line\n",
    "                        simSeconds = float(line.split()[1])\n",
    "                    if \"system.cpu.numCycles\" in line:\n",
    "                        # extract the numCycles value from the line\n",
    "                        numCycles = int(line.split()[1])\n",
    "                    if \"system.cpu.branchPred.condPredicted\" in line:\n",
    "                        # extract the conditional predicted branches value from the line\n",
    "                        condPredicted = int(line.split()[1])\n",
    "                    if \"system.cpu.branchPred.condIncorrect\" in line:\n",
    "                        # extract the conditional incorrect branches value from the line\n",
    "                        condIncorrect = int(line.split()[1])\n",
    "                    if \"system.cpu.commit.branchMispredicts\" in line:\n",
    "                        # extract the branch mispredicts value from the line\n",
    "                        branchMispredicts = int(line.split()[1])\n",
    "                    if \"overallMisses::total\" in line:\n",
    "                        # extract the overall misses value from the line\n",
    "                        overallMisses += int(line.split()[1])\n",
    "            result_dict[os.path.basename(folder)] = {\"Seconds\": simSeconds, \"Cycles\": numCycles, \"Conditional Predicted\": condPredicted,\n",
    "                                                        \"Conditional Incorrect\": condIncorrect, \"Branch Mispredicts\": branchMispredicts,\n",
    "                                                        \"Overall Cache Misses\": overallMisses}  # Create an empty dictionary for the folder\n",
    "\n",
    "    return result_dict"
   ]
  }
 ],
 "metadata": {
  "language_info": {
   "name": "python"
  }
 },
 "nbformat": 4,
 "nbformat_minor": 2
}
