{
 "cells": [
  {
   "cell_type": "code",
   "execution_count": 26,
   "metadata": {},
   "outputs": [],
   "source": [
    "import os"
   ]
  },
  {
   "cell_type": "code",
   "execution_count": 27,
   "metadata": {},
   "outputs": [],
   "source": [
    "def extract_data(folder):\n",
    "    result_dict = {}\n",
    "    for subfolder in os.listdir(folder):\n",
    "\n",
    "        # Check if the subfolder is a folder\n",
    "        if not os.path.isdir(os.path.join(folder, subfolder)):\n",
    "            continue\n",
    "        # go inside the subfolder\n",
    "\n",
    "        for file in os.listdir(os.path.join(folder, subfolder)):\n",
    "            if file.endswith(\"stats.txt\"):\n",
    "                with open(os.path.join(folder, subfolder, file), 'r') as f:\n",
    "                    overallMisses = 0\n",
    "                    # read all lines into a list\n",
    "                    lines = f.readlines()\n",
    "                    for line in lines:\n",
    "                        if \"simSeconds\" in line:\n",
    "                            # extract the simSeconds value from the line\n",
    "                            simSeconds = float(line.split()[1])\n",
    "                        if \"system.cpu.numCycles\" in line:\n",
    "                            # extract the numCycles value from the line\n",
    "                            numCycles = int(line.split()[1])\n",
    "                        if \"system.cpu.branchPred.condPredicted\" in line:\n",
    "                            # extract the conditional predicted branches value from the line\n",
    "                            condPredicted = int(line.split()[1])\n",
    "                        if \"system.cpu.branchPred.condIncorrect\" in line:\n",
    "                            # extract the conditional incorrect branches value from the line\n",
    "                            condIncorrect = int(line.split()[1])\n",
    "                        if \"system.cpu.commit.branchMispredicts\" in line:\n",
    "                            # extract the branch mispredicts value from the line\n",
    "                            branchMispredicts = int(line.split()[1])\n",
    "                        if \"overallMisses::total\" in line:\n",
    "                            # extract the overall misses value from the line\n",
    "                            overallMisses += int(line.split()[1])\n",
    "                result_dict[os.path.basename(subfolder)] = {\"Seconds\": simSeconds, \"Cycles\": numCycles, \"Conditional Predicted\": condPredicted,\n",
    "                                                            \"Conditional Incorrect\": condIncorrect, \"Branch Mispredicts\": branchMispredicts,\n",
    "                                                            \"Overall Cache Misses\": overallMisses}  # Create an empty dictionary for the folder\n",
    "\n",
    "    return result_dict"
   ]
  },
  {
   "cell_type": "code",
   "execution_count": 28,
   "metadata": {},
   "outputs": [
    {
     "name": "stdout",
     "output_type": "stream",
     "text": [
      "Branch Predictor\tSeconds\t\tCycles\t\tConditional Predicted\tConditional Incorrect\tBranch Mispredicts\tOverall Cache Misses\n",
      "multiperspective perceptron tage 64kb\t\t0.476841\t\t476841170\t\t41269028\t\t\t\t525521\t\t\t\t181114\t\t\t\t3244538\n",
      "multiperspective perceptron 64kb\t\t4.252165\t\t4252164692\t\t376938450\t\t\t\t6541260\t\t\t\t6540784\t\t\t\t28596141\n",
      "tage_sc_l_8kb\t\t0.310865\t\t310864622\t\t26840632\t\t\t\t121109\t\t\t\t120644\t\t\t\t2119336\n",
      "multiperspective perceptron tage 8kb\t\t0.238586\t\t238586270\t\t20791374\t\t\t\t266312\t\t\t\t93980\t\t\t\t1621534\n",
      "bimodebp\t\t0.007883\t\t7883351\t\t794036\t\t\t\t6507\t\t\t\t6026\t\t\t\t55346\n",
      "tage_sc_l_64kb\t\t0.198972\t\t198972273\t\t16981374\t\t\t\t77885\t\t\t\t77425\t\t\t\t1354911\n",
      "tage\t\t0.007778\t\t7777790\t\t754099\t\t\t\t2697\t\t\t\t2251\t\t\t\t55232\n",
      "multiperspective perceptron 8kb\t\t0.100368\t\t100368038\t\t8816290\t\t\t\t47285\t\t\t\t46809\t\t\t\t683665\n",
      "ltage\t\t0.172418\t\t172418156\t\t14318138\t\t\t\t13946\t\t\t\t13506\t\t\t\t1188455\n",
      "localBP\t\t0.007916\t\t7915691\t\t798660\t\t\t\t7717\t\t\t\t7351\t\t\t\t55251\n",
      "tournamentBP\t\t5.714297\t\t5714296913\t\t502983936\t\t\t\t2381750\t\t\t\t2381296\t\t\t\t39021789\n"
     ]
    }
   ],
   "source": [
    "data = extract_data(\".\")\n",
    "\n",
    "# print data in a table\n",
    "print(\"Branch Predictor\\tSeconds\\t\\tCycles\\t\\tConditional Predicted\\tConditional Incorrect\\tBranch Mispredicts\\tOverall Cache Misses\")\n",
    "for key, value in data.items():\n",
    "    print(\"{}\\t\\t{}\\t\\t{}\\t\\t{}\\t\\t\\t\\t{}\\t\\t\\t\\t{}\\t\\t\\t\\t{}\".format(\" \".join(key.split(\"-\")[3:]), value[\"Seconds\"], value[\"Cycles\"], value[\"Conditional Predicted\"],\n",
    "                                                                         value[\"Conditional Incorrect\"], value[\"Branch Mispredicts\"],\n",
    "                                                                         value[\"Overall Cache Misses\"]))\n"
   ]
  }
 ],
 "metadata": {
  "kernelspec": {
   "display_name": "Python 3",
   "language": "python",
   "name": "python3"
  },
  "language_info": {
   "codemirror_mode": {
    "name": "ipython",
    "version": 3
   },
   "file_extension": ".py",
   "mimetype": "text/x-python",
   "name": "python",
   "nbconvert_exporter": "python",
   "pygments_lexer": "ipython3",
   "version": "3.10.0"
  }
 },
 "nbformat": 4,
 "nbformat_minor": 2
}
